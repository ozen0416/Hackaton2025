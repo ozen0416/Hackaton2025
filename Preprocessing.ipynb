{
 "cells": [
  {
   "cell_type": "code",
   "execution_count": 1,
   "id": "f4818ac0-0ac6-4ff3-9db4-5230016cf52d",
   "metadata": {},
   "outputs": [],
   "source": [
    "import pandas as pd\n",
    "\n",
    "df = pd.read_parquet(\"Hackaton2025/StockUniteLegale_utf8.parquet\")\n",
    "df_hist = pd.read_parquet(\"Hackaton2025/StockUniteLegaleHistorique_utf8.parquet\")\n",
    "\n",
    "df = df[[\"siren\", \"dateCreationUniteLegale\", \"trancheEffectifsUniteLegale\", \"categorieEntreprise\", \"dateDebut\", \"etatAdministratifUniteLegale\",\n",
    "    \"nomUniteLegale\", \"activitePrincipaleUniteLegale\", \"categorieJuridiqueUniteLegale\", \"nomenclatureActivitePrincipaleUniteLegale\", \"nicSiegeUniteLegale\" ]]\n",
    "\n",
    "df_hist = df_hist[[\"siren\",\"dateDebut\",\"etatAdministratifUniteLegale\"]]\n",
    "\n",
    "df_final = pd.concat([df,df_hist])\n",
    "\n",
    "# Suppression des lignes strinctement identique\n",
    "df_final = df_final.drop_duplicates()\n",
    "\n",
    "\n",
    "df_final.to_parquet(\"Hackaton2025/StockUniteLegale_Clean.parquet\",index=False)"
   ]
  },
  {
   "cell_type": "code",
   "execution_count": 34,
   "id": "c68df399-96ec-4b0b-8055-370ec0324165",
   "metadata": {},
   "outputs": [],
   "source": [
    "df = pd.read_parquet(\"Hackaton2025/StockUniteLegale_Clean.parquet\")"
   ]
  },
  {
   "cell_type": "code",
   "execution_count": 3,
   "id": "ab9f88f1-a839-4896-95e3-077f1b1f6ce2",
   "metadata": {},
   "outputs": [
    {
     "data": {
      "text/plain": [
       "(98210861, 11)"
      ]
     },
     "execution_count": 3,
     "metadata": {},
     "output_type": "execute_result"
    }
   ],
   "source": [
    "df.shape"
   ]
  },
  {
   "cell_type": "code",
   "execution_count": 5,
   "id": "a73b597b-b9c9-44c8-b09c-69455be44a7f",
   "metadata": {
    "scrolled": true
   },
   "outputs": [
    {
     "data": {
      "text/plain": [
       "28760238"
      ]
     },
     "execution_count": 5,
     "metadata": {},
     "output_type": "execute_result"
    }
   ],
   "source": [
    "df[\"siren\"].nunique()"
   ]
  },
  {
   "cell_type": "code",
   "execution_count": 6,
   "id": "b725c5f9-7d2f-410a-9a4e-94ac006572a4",
   "metadata": {},
   "outputs": [
    {
     "name": "stdout",
     "output_type": "stream",
     "text": [
      "siren 000325175\n",
      "dateCreationUniteLegale 2000-09-26\n",
      "trancheEffectifsUniteLegale NN\n",
      "categorieEntreprise PME\n",
      "dateDebut 2018-02-07\n",
      "etatAdministratifUniteLegale A\n",
      "nomUniteLegale JANOYER\n",
      "activitePrincipaleUniteLegale 32.12Z\n",
      "categorieJuridiqueUniteLegale 1000.0\n",
      "nomenclatureActivitePrincipaleUniteLegale NAFRev2\n",
      "nicSiegeUniteLegale 65.0\n"
     ]
    }
   ],
   "source": [
    "# Visualisation d'une ligne\n",
    "for i in df.columns:\n",
    "    print(i, df[i].iloc[0])"
   ]
  },
  {
   "cell_type": "code",
   "execution_count": 7,
   "id": "77597c31-4635-4206-b202-73841b6996c4",
   "metadata": {},
   "outputs": [
    {
     "name": "stdout",
     "output_type": "stream",
     "text": [
      "<class 'pandas.core.frame.DataFrame'>\n",
      "RangeIndex: 98210861 entries, 0 to 98210860\n",
      "Data columns (total 11 columns):\n",
      " #   Column                                     Dtype  \n",
      "---  ------                                     -----  \n",
      " 0   siren                                      object \n",
      " 1   dateCreationUniteLegale                    object \n",
      " 2   trancheEffectifsUniteLegale                object \n",
      " 3   categorieEntreprise                        object \n",
      " 4   dateDebut                                  object \n",
      " 5   etatAdministratifUniteLegale               object \n",
      " 6   nomUniteLegale                             object \n",
      " 7   activitePrincipaleUniteLegale              object \n",
      " 8   categorieJuridiqueUniteLegale              float64\n",
      " 9   nomenclatureActivitePrincipaleUniteLegale  object \n",
      " 10  nicSiegeUniteLegale                        float64\n",
      "dtypes: float64(2), object(9)\n",
      "memory usage: 8.0+ GB\n"
     ]
    }
   ],
   "source": [
    "df.info()"
   ]
  },
  {
   "cell_type": "code",
   "execution_count": 8,
   "id": "4fe5cf79-a179-4da8-953b-e4397622177d",
   "metadata": {},
   "outputs": [
    {
     "name": "stdout",
     "output_type": "stream",
     "text": [
      "siren  : 0.0 %\n",
      "dateCreationUniteLegale  : 71.90950907150687 %\n",
      "trancheEffectifsUniteLegale  : 70.71582744804569 %\n",
      "categorieEntreprise  : 89.26170090291745 %\n",
      "dateDebut  : 0.8302890247546043 %\n",
      "etatAdministratifUniteLegale  : 2.2478929290722744 %\n",
      "nomUniteLegale  : 83.46302350409086 %\n",
      "activitePrincipaleUniteLegale  : 70.73774559414564 %\n",
      "categorieJuridiqueUniteLegale  : 70.71582744804569 %\n",
      "nomenclatureActivitePrincipaleUniteLegale  : 70.73774559414564 %\n",
      "nicSiegeUniteLegale  : 70.71582744804569 %\n"
     ]
    }
   ],
   "source": [
    "# Visualisation des nan\n",
    "for i in df.columns:\n",
    "    print(i, f\" : {((df[i].isna().sum()) / len(df) )*100} %\") "
   ]
  },
  {
   "cell_type": "code",
   "execution_count": 9,
   "id": "b1e0e09a-743f-435c-a83a-362f0ff626be",
   "metadata": {},
   "outputs": [],
   "source": [
    "# Suppression des nan non problèmatique\n",
    "df = df[df[\"etatAdministratifUniteLegale\"].isna() == False]\n",
    "df = df[df[\"dateDebut\"].isna() == False]"
   ]
  },
  {
   "cell_type": "code",
   "execution_count": 10,
   "id": "75f362fb-d1f0-4c98-9e92-0bbccd9ef562",
   "metadata": {
    "scrolled": true
   },
   "outputs": [
    {
     "data": {
      "text/plain": [
       "(95187752, 11)"
      ]
     },
     "execution_count": 10,
     "metadata": {},
     "output_type": "execute_result"
    }
   ],
   "source": [
    "df.shape"
   ]
  },
  {
   "cell_type": "code",
   "execution_count": 11,
   "id": "cdf5b354-e981-480d-9696-d37ce8d08889",
   "metadata": {},
   "outputs": [
    {
     "data": {
      "text/plain": [
       "28352521"
      ]
     },
     "execution_count": 11,
     "metadata": {},
     "output_type": "execute_result"
    }
   ],
   "source": [
    "df[\"siren\"].nunique()"
   ]
  },
  {
   "cell_type": "code",
   "execution_count": 37,
   "id": "d3d9df7f-1e2e-49b6-bbd4-c76e51cf43c4",
   "metadata": {},
   "outputs": [],
   "source": [
    "# 1️⃣ Convertir dateDebut en datetime\n",
    "df[\"dateDebut\"] = pd.to_datetime(df[\"dateDebut\"], errors=\"coerce\")"
   ]
  },
  {
   "cell_type": "code",
   "execution_count": 39,
   "id": "050b120d-68b9-4a2b-ae7b-7048d1b4655a",
   "metadata": {
    "scrolled": true
   },
   "outputs": [
    {
     "data": {
      "text/plain": [
       "Timestamp('2232-01-01 00:00:00')"
      ]
     },
     "execution_count": 39,
     "metadata": {},
     "output_type": "execute_result"
    }
   ],
   "source": [
    "df[\"dateDebut\"].max()"
   ]
  },
  {
   "cell_type": "code",
   "execution_count": 13,
   "id": "09c65dd2-eb26-4f19-9560-031e0b234384",
   "metadata": {
    "scrolled": true
   },
   "outputs": [],
   "source": [
    "# 1️⃣ Convertir dateDebut en datetime\n",
    "df[\"dateDebut\"] = pd.to_datetime(df[\"dateDebut\"], errors=\"coerce\")\n",
    "\n",
    "# 2️⃣ Extraire uniquement l’année\n",
    "df[\"annee\"] = df[\"dateDebut\"].dt.year\n",
    "\n",
    "# 3️⃣ Supprimer la colonne d’origine (optionnel)\n",
    "df = df.drop(columns=[\"dateDebut\"])\n",
    "\n",
    "# 4️⃣ Supprimer les doublons pour ne garder qu’une ligne par siren et par annee\n",
    "df = df.drop_duplicates(subset=[\"siren\", \"annee\"])"
   ]
  },
  {
   "cell_type": "code",
   "execution_count": null,
   "id": "511f3f3a-7c2b-4674-8c0c-7ca568c59af7",
   "metadata": {},
   "outputs": [],
   "source": [
    "# selection des années et suppression des années abérrantes.\n",
    "df[(df[\"dateDebut\"] > \"2020-01-01\") | (df[\"dateDebut\"] < \"2025-01-01\")]"
   ]
  },
  {
   "cell_type": "code",
   "execution_count": 17,
   "id": "fe01dd48-f856-4f67-adde-9f3c7b0a8401",
   "metadata": {
    "scrolled": true
   },
   "outputs": [
    {
     "data": {
      "text/html": [
       "<div>\n",
       "<style scoped>\n",
       "    .dataframe tbody tr th:only-of-type {\n",
       "        vertical-align: middle;\n",
       "    }\n",
       "\n",
       "    .dataframe tbody tr th {\n",
       "        vertical-align: top;\n",
       "    }\n",
       "\n",
       "    .dataframe thead th {\n",
       "        text-align: right;\n",
       "    }\n",
       "</style>\n",
       "<table border=\"1\" class=\"dataframe\">\n",
       "  <thead>\n",
       "    <tr style=\"text-align: right;\">\n",
       "      <th></th>\n",
       "      <th>categorieJuridiqueUniteLegale</th>\n",
       "      <th>nicSiegeUniteLegale</th>\n",
       "      <th>annee</th>\n",
       "    </tr>\n",
       "  </thead>\n",
       "  <tbody>\n",
       "    <tr>\n",
       "      <th>count</th>\n",
       "      <td>2.835252e+07</td>\n",
       "      <td>2.835252e+07</td>\n",
       "      <td>5.772328e+07</td>\n",
       "    </tr>\n",
       "    <tr>\n",
       "      <th>mean</th>\n",
       "      <td>3.246854e+03</td>\n",
       "      <td>1.938498e+01</td>\n",
       "      <td>2.009416e+03</td>\n",
       "    </tr>\n",
       "    <tr>\n",
       "      <th>std</th>\n",
       "      <td>2.739824e+03</td>\n",
       "      <td>4.416437e+01</td>\n",
       "      <td>1.322517e+01</td>\n",
       "    </tr>\n",
       "    <tr>\n",
       "      <th>min</th>\n",
       "      <td>1.000000e+03</td>\n",
       "      <td>1.000000e+00</td>\n",
       "      <td>1.819000e+03</td>\n",
       "    </tr>\n",
       "    <tr>\n",
       "      <th>25%</th>\n",
       "      <td>1.000000e+03</td>\n",
       "      <td>1.300000e+01</td>\n",
       "      <td>2.004000e+03</td>\n",
       "    </tr>\n",
       "    <tr>\n",
       "      <th>50%</th>\n",
       "      <td>1.000000e+03</td>\n",
       "      <td>1.600000e+01</td>\n",
       "      <td>2.011000e+03</td>\n",
       "    </tr>\n",
       "    <tr>\n",
       "      <th>75%</th>\n",
       "      <td>5.710000e+03</td>\n",
       "      <td>2.100000e+01</td>\n",
       "      <td>2.019000e+03</td>\n",
       "    </tr>\n",
       "    <tr>\n",
       "      <th>max</th>\n",
       "      <td>9.970000e+03</td>\n",
       "      <td>7.666500e+04</td>\n",
       "      <td>2.232000e+03</td>\n",
       "    </tr>\n",
       "  </tbody>\n",
       "</table>\n",
       "</div>"
      ],
      "text/plain": [
       "       categorieJuridiqueUniteLegale  nicSiegeUniteLegale         annee\n",
       "count                   2.835252e+07         2.835252e+07  5.772328e+07\n",
       "mean                    3.246854e+03         1.938498e+01  2.009416e+03\n",
       "std                     2.739824e+03         4.416437e+01  1.322517e+01\n",
       "min                     1.000000e+03         1.000000e+00  1.819000e+03\n",
       "25%                     1.000000e+03         1.300000e+01  2.004000e+03\n",
       "50%                     1.000000e+03         1.600000e+01  2.011000e+03\n",
       "75%                     5.710000e+03         2.100000e+01  2.019000e+03\n",
       "max                     9.970000e+03         7.666500e+04  2.232000e+03"
      ]
     },
     "execution_count": 17,
     "metadata": {},
     "output_type": "execute_result"
    }
   ],
   "source": [
    "df.describe()"
   ]
  },
  {
   "cell_type": "code",
   "execution_count": 16,
   "id": "909111e1-5220-4355-b7ab-d334e2dd9efd",
   "metadata": {},
   "outputs": [],
   "source": [
    "df.to_csv(\"dataset_clean.csv\",index=False)"
   ]
  }
 ],
 "metadata": {
  "kernelspec": {
   "display_name": "Python 3 (ipykernel)",
   "language": "python",
   "name": "python3"
  },
  "language_info": {
   "codemirror_mode": {
    "name": "ipython",
    "version": 3
   },
   "file_extension": ".py",
   "mimetype": "text/x-python",
   "name": "python",
   "nbconvert_exporter": "python",
   "pygments_lexer": "ipython3",
   "version": "3.12.7"
  }
 },
 "nbformat": 4,
 "nbformat_minor": 5
}
